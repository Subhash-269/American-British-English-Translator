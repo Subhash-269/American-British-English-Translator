{
  "cells": [
    {
      "cell_type": "code",
      "execution_count": null,
      "metadata": {
        "id": "copyright"
      },
      "outputs": [],
      "source": [
        "# Copyright 2022 Google LLC\n",
        "#\n",
        "# Licensed under the Apache License, Version 2.0 (the \"License\");\n",
        "# you may not use this file except in compliance with the License.\n",
        "# You may obtain a copy of the License at\n",
        "#\n",
        "#     https://www.apache.org/licenses/LICENSE-2.0\n",
        "#\n",
        "# Unless required by applicable law or agreed to in writing, software\n",
        "# distributed under the License is distributed on an \"AS IS\" BASIS,\n",
        "# WITHOUT WARRANTIES OR CONDITIONS OF ANY KIND, either express or implied.\n",
        "# See the License for the specific language governing permissions and\n",
        "# limitations under the License."
      ]
    },
    {
      "cell_type": "markdown",
      "metadata": {
        "id": "title"
      },
      "source": [
        "# Vertex AI SDK: AutoML tabular forecasting model for batch prediction\n",
        "\n",
        "<table align=\"left\">\n",
        "  <td style=\"text-align: center\">\n",
        "    <a href=\"https://colab.research.google.com/github/GoogleCloudPlatform/vertex-ai-samples/blob/main/notebooks/official/automl/sdk_automl_tabular_forecasting_batch.ipynb\">\n",
        "      <img src=\"https://cloud.google.com/ml-engine/images/colab-logo-32px.png\" alt=\"Google Colaboratory logo\"><br> Open in Colab\n",
        "    </a>\n",
        "  </td>\n",
        "  <td style=\"text-align: center\">\n",
        "    <a href=\"https://console.cloud.google.com/vertex-ai/colab/import/https:%2F%2Fraw.githubusercontent.com%2FGoogleCloudPlatform%2Fvertex-ai-samples%2Fmain%2Fnotebooks%2Fofficial%2Fautoml%2Fsdk_automl_tabular_forecasting_batch.ipynb\">\n",
        "      <img width=\"32px\" src=\"https://cloud.google.com/ml-engine/images/colab-enterprise-logo-32px.png\" alt=\"Google Cloud Colab Enterprise logo\"><br> Open in Colab Enterprise\n",
        "    </a>\n",
        "  </td>    \n",
        "  <td style=\"text-align: center\">\n",
        "    <a href=\"https://console.cloud.google.com/vertex-ai/workbench/deploy-notebook?download_url=https://raw.githubusercontent.com/GoogleCloudPlatform/vertex-ai-samples/main/notebooks/official/automl/sdk_automl_tabular_forecasting_batch.ipynb\">\n",
        "      <img src=\"https://lh3.googleusercontent.com/UiNooY4LUgW_oTvpsNhPpQzsstV5W8F7rYgxgGBD85cWJoLmrOzhVs_ksK_vgx40SHs7jCqkTkCk=e14-rj-sc0xffffff-h130-w32\" alt=\"Vertex AI logo\"><br> Open in Workbench\n",
        "    </a>\n",
        "  </td>\n",
        "  <td style=\"text-align: center\">\n",
        "    <a href=\"https://github.com/GoogleCloudPlatform/vertex-ai-samples/blob/main/notebooks/official/automl/sdk_automl_tabular_forecasting_batch.ipynb\">\n",
        "      <img src=\"https://cloud.google.com/ml-engine/images/github-logo-32px.png\" alt=\"GitHub logo\"><br> View on GitHub\n",
        "    </a>\n",
        "  </td>\n",
        "</table>\n"
      ]
    },
    {
      "cell_type": "markdown",
      "metadata": {
        "id": "overview:automl"
      },
      "source": [
        "## Overview\n",
        "\n",
        "\n",
        "This tutorial demonstrates how to use the Vertex AI SDK to create tabular forecasting models and generate batch prediction using a Google Cloud [AutoML](https://cloud.google.com/vertex-ai/docs/start/automl-users) model.\n",
        "\n",
        "Learn more about [Forecasting with AutoML](https://cloud.google.com/vertex-ai/docs/tabular-data/forecasting/overview)."
      ]
    },
    {
      "cell_type": "markdown",
      "metadata": {
        "id": "02b9af111927"
      },
      "source": [
        "### Objective\n",
        "\n",
        "In this tutorial, you learn how to create an AutoML tabular forecasting model from a Python script, and then generate batch prediction using the Vertex AI SDK. You can alternatively create and deploy models using the `gcloud` command-line tool or online using the Cloud Console.\n",
        "\n",
        "This tutorial uses the following Google Cloud ML services:\n",
        "\n",
        "- AutoML Training\n",
        "- Vertex AI batch prediction\n",
        "- Vertex AI model resource\n",
        "\n",
        "The steps performed include:\n",
        "\n",
        "- Create a Vertex AI dataset resource.\n",
        "- Train an AutoML tabular forecasting model resource.\n",
        "- Obtain the evaluation metrics for the model resource.\n",
        "- Make a batch prediction."
      ]
    },
    {
      "cell_type": "markdown",
      "metadata": {
        "id": "dataset:covid,forecast"
      },
      "source": [
        "### Dataset\n",
        "\n",
        "The dataset used for this tutorial is a time series dataset containing samples drawn from the Iowa Liquor Retail Sales dataset. Data is made available by the Iowa Department of Commerce. It's provided under the Creative Commons Zero v1.0 Universal license. For more details, see: https://console.cloud.google.com/marketplace/product/iowa-department-of-commerce/iowa-liquor-sales. This dataset doesn't require any feature engineering. The version of the dataset used in this tutorial is stored in BigQuery."
      ]
    },
    {
      "cell_type": "markdown",
      "metadata": {
        "id": "costs"
      },
      "source": [
        "### Costs\n",
        "\n",
        "This tutorial uses billable components of Google Cloud:\n",
        "\n",
        "* Vertex AI\n",
        "* Cloud Storage\n",
        "\n",
        "Learn about [Vertex AI\n",
        "pricing](https://cloud.google.com/vertex-ai/pricing) and [Cloud Storage\n",
        "pricing](https://cloud.google.com/storage/pricing), and use the [Pricing\n",
        "Calculator](https://cloud.google.com/products/calculator/)\n",
        "to generate a cost estimate based on your projected usage."
      ]
    },
    {
      "cell_type": "markdown",
      "metadata": {
        "id": "61RBz8LLbxCR"
      },
      "source": [
        "## Get started"
      ]
    },
    {
      "cell_type": "markdown",
      "metadata": {
        "id": "No17Cw5hgx12"
      },
      "source": [
        "### Install Vertex AI SDK for Python and other required packages\n"
      ]
    },
    {
      "cell_type": "code",
      "execution_count": 1,
      "metadata": {
        "id": "install_aip:mbsdk",
        "colab": {
          "base_uri": "https://localhost:8080/",
          "height": 0
        },
        "outputId": "13484961-04f9-4f44-f72f-4cc6a0046c34"
      },
      "outputs": [
        {
          "output_type": "stream",
          "name": "stdout",
          "text": [
            "\u001b[2K   \u001b[90m━━━━━━━━━━━━━━━━━━━━━━━━━━━━━━━━━━━━━━━━\u001b[0m \u001b[32m7.3/7.3 MB\u001b[0m \u001b[31m36.9 MB/s\u001b[0m eta \u001b[36m0:00:00\u001b[0m\n",
            "\u001b[?25h"
          ]
        }
      ],
      "source": [
        "! pip3 install --upgrade --quiet google-cloud-aiplatform"
      ]
    },
    {
      "cell_type": "markdown",
      "metadata": {
        "id": "R5Xep4W9lq-Z"
      },
      "source": [
        "### Restart runtime (Colab only)\n",
        "\n",
        "To use the newly installed packages, you must restart the runtime on Google Colab."
      ]
    },
    {
      "cell_type": "code",
      "execution_count": 2,
      "metadata": {
        "id": "XRvKdaPDTznN"
      },
      "outputs": [],
      "source": [
        "import sys\n",
        "\n",
        "if \"google.colab\" in sys.modules:\n",
        "\n",
        "    import IPython\n",
        "\n",
        "    app = IPython.Application.instance()\n",
        "    app.kernel.do_shutdown(True)"
      ]
    },
    {
      "cell_type": "markdown",
      "metadata": {
        "id": "SbmM4z7FOBpM"
      },
      "source": [
        "<div class=\"alert alert-block alert-warning\">\n",
        "<b>⚠️ The kernel is going to restart. Wait until it's finished before continuing to the next step. ⚠️</b>\n",
        "</div>\n"
      ]
    },
    {
      "cell_type": "markdown",
      "metadata": {
        "id": "dmWOrTJ3gx13"
      },
      "source": [
        "### Authenticate your notebook environment (Colab only)\n",
        "\n",
        "Authenticate your environment on Google Colab.\n"
      ]
    },
    {
      "cell_type": "code",
      "execution_count": 1,
      "metadata": {
        "id": "NyKGtVQjgx13"
      },
      "outputs": [],
      "source": [
        "import sys\n",
        "\n",
        "if \"google.colab\" in sys.modules:\n",
        "\n",
        "    from google.colab import auth\n",
        "\n",
        "    auth.authenticate_user()"
      ]
    },
    {
      "cell_type": "markdown",
      "metadata": {
        "id": "DF4l8DTdWgPY"
      },
      "source": [
        "### Set Google Cloud project information\n",
        "\n",
        "To get started using Vertex AI, you must have an existing Google Cloud project. Learn more about [setting up a project and a development environment](https://cloud.google.com/vertex-ai/docs/start/cloud-environment)."
      ]
    },
    {
      "cell_type": "code",
      "execution_count": 2,
      "metadata": {
        "id": "set_project_id",
        "colab": {
          "base_uri": "https://localhost:8080/",
          "height": 0
        },
        "outputId": "5f5500cc-e397-4a61-e6ab-64c02ce710ff"
      },
      "outputs": [
        {
          "output_type": "stream",
          "name": "stdout",
          "text": [
            "Updated property [core/project].\n"
          ]
        }
      ],
      "source": [
        "PROJECT_ID = \"asn3-454801\"  # @param {type:\"string\"}\n",
        "LOCATION = \"us-central1\"  # @param {type:\"string\"}\n",
        "\n",
        "# Set the project id\n",
        "! gcloud config set project {PROJECT_ID}"
      ]
    },
    {
      "cell_type": "markdown",
      "metadata": {
        "id": "bucket:mbsdk"
      },
      "source": [
        "### Create a Cloud Storage bucket\n",
        "\n",
        "Create a storage bucket to store intermediate artifacts such as datasets."
      ]
    },
    {
      "cell_type": "code",
      "execution_count": 3,
      "metadata": {
        "id": "bucket"
      },
      "outputs": [],
      "source": [
        "BUCKET_URI = f\"gs://your-bucket-name-{PROJECT_ID}-unique\"  # @param {type:\"string\"}"
      ]
    },
    {
      "cell_type": "markdown",
      "metadata": {
        "id": "create_bucket"
      },
      "source": [
        "**If your bucket doesn't already exist**: Run the following cell to create your Cloud Storage bucket."
      ]
    },
    {
      "cell_type": "code",
      "execution_count": 4,
      "metadata": {
        "colab": {
          "base_uri": "https://localhost:8080/",
          "height": 0
        },
        "id": "YG4gYzeT75Cc",
        "outputId": "8ededed1-cc6f-4bdb-d1d7-9babf1e730e7"
      },
      "outputs": [
        {
          "output_type": "stream",
          "name": "stdout",
          "text": [
            "Creating gs://your-bucket-name-asn3-454801-unique/...\n"
          ]
        }
      ],
      "source": [
        "! gsutil mb -l {LOCATION} -p {PROJECT_ID} {BUCKET_URI}"
      ]
    },
    {
      "cell_type": "markdown",
      "metadata": {
        "id": "setup_vars"
      },
      "source": [
        "### Import libraries and define constants"
      ]
    },
    {
      "cell_type": "code",
      "execution_count": 5,
      "metadata": {
        "id": "import_aip:mbsdk"
      },
      "outputs": [],
      "source": [
        "import urllib\n",
        "\n",
        "from google.cloud import aiplatform, bigquery"
      ]
    },
    {
      "cell_type": "markdown",
      "metadata": {
        "id": "init_aip:mbsdk"
      },
      "source": [
        "## Initialize Vertex AI SDK for Python\n",
        "\n",
        "Initialize the Vertex AI SDK for Python for your project and corresponding bucket."
      ]
    },
    {
      "cell_type": "code",
      "execution_count": 6,
      "metadata": {
        "id": "2Sxoty3B75Cd"
      },
      "outputs": [],
      "source": [
        "aiplatform.init(project=PROJECT_ID, staging_bucket=BUCKET_URI)"
      ]
    },
    {
      "cell_type": "markdown",
      "metadata": {
        "id": "tutorial_start:automl"
      },
      "source": [
        "## Tutorial\n",
        "\n",
        "Now you're ready to begin creating your own AutoML tabular forecasting model."
      ]
    },
    {
      "cell_type": "markdown",
      "metadata": {
        "id": "import_file:u_dataset,csv"
      },
      "source": [
        "#### Location of BigQuery training data.\n",
        "\n",
        "Now set the variable `TRAINING_DATASET_BQ_PATH` to the location of the BigQuery table."
      ]
    },
    {
      "cell_type": "code",
      "execution_count": 7,
      "metadata": {
        "id": "import_file:covid,csv,forecast"
      },
      "outputs": [],
      "source": [
        "TRAINING_DATASET_BQ_PATH = (\n",
        "    \"bq://bigquery-public-data:iowa_liquor_sales_forecasting.2020_sales_train\"\n",
        ")"
      ]
    },
    {
      "cell_type": "markdown",
      "metadata": {
        "id": "create_dataset:tabular,forecast"
      },
      "source": [
        "### Create the Dataset\n",
        "\n",
        "Next, create the dataset resource by using the `create` method of the `TimeSeriesDataset` class, which takes the following parameters:\n",
        "\n",
        "- `display_name`: The human readable name for the dataset resource.\n",
        "- `gcs_source`: A list of one or more dataset index files to import the data items into the dataset resource.\n",
        "- `bq_source`: Alternatively, import data items from a BigQuery table into the dataset resource.\n",
        "\n",
        "This operation may take several minutes."
      ]
    },
    {
      "cell_type": "code",
      "execution_count": 8,
      "metadata": {
        "colab": {
          "base_uri": "https://localhost:8080/",
          "height": 0
        },
        "id": "l6ikiGMO75Cd",
        "outputId": "385c3839-030e-4e34-b0b1-968c13b4d76c"
      },
      "outputs": [
        {
          "output_type": "stream",
          "name": "stdout",
          "text": [
            "projects/625784296901/locations/us-central1/datasets/275258887723024384\n"
          ]
        }
      ],
      "source": [
        "dataset = aiplatform.TimeSeriesDataset.create(\n",
        "    display_name=\"iowa_liquor_sales_train\",\n",
        "    bq_source=[TRAINING_DATASET_BQ_PATH],\n",
        ")\n",
        "\n",
        "time_column = \"date\"\n",
        "time_series_identifier_column = \"store_name\"\n",
        "target_column = \"sale_dollars\"\n",
        "\n",
        "print(dataset.resource_name)"
      ]
    },
    {
      "cell_type": "code",
      "execution_count": 9,
      "metadata": {
        "id": "set_transformations:covid"
      },
      "outputs": [],
      "source": [
        "COLUMN_SPECS = {\n",
        "    time_column: \"timestamp\",\n",
        "    target_column: \"numeric\",\n",
        "    \"city\": \"categorical\",\n",
        "    \"zip_code\": \"categorical\",\n",
        "    \"county\": \"categorical\",\n",
        "}"
      ]
    },
    {
      "cell_type": "markdown",
      "metadata": {
        "id": "create_automl_pipeline:tabular,forecast"
      },
      "source": [
        "### Create and run training job\n",
        "\n",
        "To train an AutoML model, you perform two steps:\n",
        "1) Create a training job.\n",
        "2) Specify your training parameters and run the job.\n",
        "\n",
        "#### Create training job\n",
        "\n",
        "An AutoML training job is created using the `AutoMLForecastingTrainingJob` class, with the following parameters:\n",
        "\n",
        "- `display_name`: The human readable name for the training job resource.\n",
        "- `column_transformations`: (Optional): Transformations to apply to the input columns\n",
        "- `optimization_objective`: The optimization objective to minimize or maximize.\n",
        "    - `minimize-rmse`\n",
        "    - `minimize-mae`\n",
        "    - `minimize-rmsle`\n",
        "\n",
        "The instantiated object is the job for the training pipeline."
      ]
    },
    {
      "cell_type": "code",
      "execution_count": 10,
      "metadata": {
        "id": "tDBECqcK75Cd"
      },
      "outputs": [],
      "source": [
        "MODEL_DISPLAY_NAME = \"iowa-liquor-sales-forecast-model\"\n",
        "\n",
        "training_job = aiplatform.AutoMLForecastingTrainingJob(\n",
        "    display_name=MODEL_DISPLAY_NAME,\n",
        "    optimization_objective=\"minimize-rmse\",\n",
        "    column_specs=COLUMN_SPECS,\n",
        ")"
      ]
    },
    {
      "cell_type": "markdown",
      "metadata": {
        "id": "run_automl_pipeline:forecast"
      },
      "source": [
        "#### Run the training pipeline\n",
        "\n",
        "Next, start the training job by invoking the `run` method, with the following parameters:\n",
        "\n",
        "- `dataset`: The dataset resource to train the model.\n",
        "- `target_column`: The column in the dataset that contains the values the model is trying to forecast.\n",
        "- `time_column`: Time-series column for the forecast model.\n",
        "- `time_series_identifier_column`: ID column for the time-series column.\n",
        "- `available_at_forecast_columns`: List of columns that are available at the time of forecasting.\n",
        "- `unavailable_at_forecast_columns`: List of columns that aren't available at the time of forecasting.\n",
        "- `time_series_attribute_columns`: Columns that contain attributes or metadata related to the time series data, such as \"city,\" \"zip_code,\" and \"county\" in this example. These attributes can help the model understand the context of the time series.\n",
        "- `forecast_horizon`: It determines how far into the future you want to predict, representing the number of time steps ahead for which the model generates predictions.\n",
        "- `context_window`: The number of historical time steps the model uses as context for making predictions. A context window of 30 means the model uses data from the past 30 time steps to forecast future values.\n",
        "- `data_granularity_unit`: The unit of time used for granularity in the data, such as \"day\" or \"hour.\" This specifies the time interval between data points.\n",
        "- `data_granularity_count`: The count of the granularity unit. For example, a data_granularity_count of 1 with a `data_granularity_unit` of \"day\" means each data point represents one day.\n",
        "- `weight_column`: This parameter lets you assign different weights to different data points in your training set.\n",
        "- `budget_milli_node_hours`: Maximum training time specified in unit of millihours (1000 = hour).\n",
        "- `model_display_name`: The human readable name for the trained model.\n",
        "- `predefined_split_column_name`: The name of a column used to specify predefined splits for training and evaluation. If not used, it’s set to `None`.\n",
        "\n",
        "The `run` method when completed returns the model resource.\n",
        "\n",
        "The execution of the training pipeline may take up to one hour."
      ]
    },
    {
      "cell_type": "code",
      "execution_count": 11,
      "metadata": {
        "id": "V7DobUVe75Ce"
      },
      "outputs": [],
      "source": [
        "model = training_job.run(\n",
        "    dataset=dataset,\n",
        "    target_column=target_column,\n",
        "    time_column=time_column,\n",
        "    time_series_identifier_column=time_series_identifier_column,\n",
        "    available_at_forecast_columns=[time_column],\n",
        "    unavailable_at_forecast_columns=[target_column],\n",
        "    time_series_attribute_columns=[\"city\", \"zip_code\", \"county\"],\n",
        "    forecast_horizon=30,\n",
        "    context_window=30,\n",
        "    data_granularity_unit=\"day\",\n",
        "    data_granularity_count=1,\n",
        "    weight_column=None,\n",
        "    budget_milli_node_hours=1000,\n",
        "    model_display_name=MODEL_DISPLAY_NAME,\n",
        "    predefined_split_column_name=None,\n",
        ")"
      ]
    },
    {
      "cell_type": "markdown",
      "metadata": {
        "id": "evaluate_the_model:mbsdk"
      },
      "source": [
        "## Review model evaluation scores\n",
        "\n",
        "Once your model training is complete, you can examine the evaluation scores to assess the model performance"
      ]
    },
    {
      "cell_type": "code",
      "execution_count": 12,
      "metadata": {
        "colab": {
          "base_uri": "https://localhost:8080/"
        },
        "id": "0dz9QFan75Ce",
        "outputId": "955ff146-3593-4cbd-e9c3-9d5ee1aeab7c"
      },
      "outputs": [
        {
          "output_type": "stream",
          "name": "stdout",
          "text": [
            "{'name': 'projects/625784296901/locations/us-central1/models/7896108670012882944@1/evaluations/8777092548807697602', 'metricsSchemaUri': 'gs://google-cloud-aiplatform/schema/modelevaluation/forecasting_metrics_1.0.0.yaml', 'metrics': {'rootMeanSquaredError': 9114.087, 'meanAbsoluteError': 3984.9714, 'weightedAbsolutePercentageError': 47.1202, 'meanAbsolutePercentageError': 383.64523, 'rSquared': 0.5467963, 'rootMeanSquaredPercentageError': 5271.571, 'rootMeanSquaredLogError': 0.9370826}, 'createTime': '2025-03-25T03:37:41.040899Z', 'modelExplanation': {'meanAttributions': [{'featureAttributions': {'date': 1128.971926141449, 'sale_dollars': 4348.434860813539, 'city': 478.3553377565088, 'county': 165.45809104387462, 'zip_code': 368.8038260627658}}]}}\n"
          ]
        }
      ],
      "source": [
        "model_evaluations = model.list_model_evaluations()\n",
        "\n",
        "for model_evaluation in model_evaluations:\n",
        "    print(model_evaluation.to_dict())"
      ]
    },
    {
      "cell_type": "markdown",
      "metadata": {
        "id": "make_prediction"
      },
      "source": [
        "## Send a batch prediction request\n",
        "\n",
        "Send a batch prediction to your deployed model."
      ]
    },
    {
      "cell_type": "markdown",
      "metadata": {
        "id": "batch_request:mbsdk,both_csv"
      },
      "source": [
        "### Make the batch prediction request\n",
        "\n",
        "Now that your Model resource is trained, you can make a batch prediction by invoking the `batch_predict()` method using a BigQuery source and destination, with the following parameters:\n",
        "\n",
        "- `job_display_name`: The human readable name for the batch prediction job.\n",
        "- `bigquery_source`: BigQuery URI to a table, up to 2000 characters long. For example: `bq://projectId.bqDatasetId.bqTableId`\n",
        "- `bigquery_destination_prefix`: The BigQuery dataset or table for storing the batch prediction results.\n",
        "- `instances_format`: The format for the input instances. Since a BigQuery source is used here, this should be set to `bigquery`.\n",
        "- `predictions_format`: The format for the output predictions, `bigquery` is used here to output to a BigQuery table.\n",
        "- `generate_explanations`: Set to `True` to generate explanations.\n",
        "- `sync`: Set **True** to wait until the completion of the job."
      ]
    },
    {
      "cell_type": "code",
      "execution_count": 13,
      "metadata": {
        "id": "2c9d935c6ab9",
        "colab": {
          "base_uri": "https://localhost:8080/"
        },
        "outputId": "e3c75ed9-d2b0-4d03-d620-dc7c795b71ba"
      },
      "outputs": [
        {
          "output_type": "stream",
          "name": "stdout",
          "text": [
            "404 DELETE https://bigquery.googleapis.com/bigquery/v2/projects/asn3-454801/datasets/iowa_liquor_sales_predictions?deleteContents=true&prettyPrint=false: Not found: Dataset asn3-454801:iowa_liquor_sales_predictions\n",
            "Created bigquery dataset asn3-454801.iowa_liquor_sales_predictions in US\n"
          ]
        }
      ],
      "source": [
        "batch_predict_bq_output_dataset_name = \"iowa_liquor_sales_predictions\"\n",
        "batch_predict_bq_output_dataset_path = \"{}.{}\".format(\n",
        "    PROJECT_ID, batch_predict_bq_output_dataset_name\n",
        ")\n",
        "batch_predict_bq_output_uri_prefix = \"bq://{}.{}\".format(\n",
        "    PROJECT_ID, batch_predict_bq_output_dataset_name\n",
        ")\n",
        "# Must be the same location as batch_predict_bq_input_uri\n",
        "client = bigquery.Client(project=PROJECT_ID)\n",
        "bq_dataset_id = bigquery.Dataset(batch_predict_bq_output_dataset_path)\n",
        "dataset_location = \"US\"  # @param {type : \"string\"}\n",
        "bq_dataset_id.location = dataset_location\n",
        "# delete any existing dataset\n",
        "try:\n",
        "    client.delete_dataset(bq_dataset_id, delete_contents=True)\n",
        "except Exception as e:\n",
        "    print(e)\n",
        "bq_dataset = client.create_dataset(bq_dataset_id)\n",
        "print(\n",
        "    \"Created bigquery dataset {} in {}\".format(\n",
        "        batch_predict_bq_output_dataset_path, dataset_location\n",
        "    )\n",
        ")"
      ]
    },
    {
      "cell_type": "markdown",
      "metadata": {
        "id": "99b7a9287ba6"
      },
      "source": [
        "For AutoML models, manual scaling can be adjusted by setting both min and max nodes i.e., `starting_replica_count` and `max_replica_count` as the same value(in this example, set to 1). The node count can be increased or decreased as required by the load\n",
        "\n",
        "The `batch_predict` method can export predictions either to BigQuery or GCS. In this example, the predictions are exported to BigQuery"
      ]
    },
    {
      "cell_type": "code",
      "execution_count": 14,
      "metadata": {
        "colab": {
          "base_uri": "https://localhost:8080/"
        },
        "id": "-tB6stCF75Ch",
        "outputId": "541e3756-d415-44e2-decb-0f1e14f04200"
      },
      "outputs": [
        {
          "output_type": "stream",
          "name": "stdout",
          "text": [
            "<google.cloud.aiplatform.jobs.BatchPredictionJob object at 0x7e4403d925d0> is waiting for upstream dependencies to complete.\n"
          ]
        }
      ],
      "source": [
        "PREDICTION_DATASET_BQ_PATH = (\n",
        "    \"bq://bigquery-public-data:iowa_liquor_sales_forecasting.2021_sales_predict\"\n",
        ")\n",
        "\n",
        "batch_prediction_job = model.batch_predict(\n",
        "    job_display_name=\"iowa_liquor_sales_forecasting_predictions\",\n",
        "    bigquery_source=PREDICTION_DATASET_BQ_PATH,\n",
        "    instances_format=\"bigquery\",\n",
        "    bigquery_destination_prefix=batch_predict_bq_output_uri_prefix,\n",
        "    predictions_format=\"bigquery\",\n",
        "    generate_explanation=True,\n",
        "    sync=False,\n",
        ")\n",
        "\n",
        "print(batch_prediction_job)"
      ]
    },
    {
      "cell_type": "markdown",
      "metadata": {
        "id": "batch_request_wait:mbsdk"
      },
      "source": [
        "### Wait for completion of batch prediction job\n",
        "\n",
        "Next, wait for the batch job to complete. Alternatively, you can set the `sync` parameter to `True` in the `batch_predict()` method to wait until the batch prediction job is completed."
      ]
    },
    {
      "cell_type": "code",
      "execution_count": 15,
      "metadata": {
        "id": "hiXvDmk475Ch"
      },
      "outputs": [],
      "source": [
        "batch_prediction_job.wait()"
      ]
    },
    {
      "cell_type": "markdown",
      "metadata": {
        "id": "get_batch_prediction:mbsdk,forecast"
      },
      "source": [
        "### Get the predictions and explanations\n",
        "\n",
        "Next, get the results from the completed batch prediction job and print them out. Each result row includes the prediction and explanation."
      ]
    },
    {
      "cell_type": "code",
      "execution_count": 16,
      "metadata": {
        "colab": {
          "base_uri": "https://localhost:8080/"
        },
        "id": "VUl1gO_k75Ch",
        "outputId": "51f610ae-a6f2-4f72-abfe-f80bf288b85f"
      },
      "outputs": [
        {
          "output_type": "stream",
          "name": "stdout",
          "text": [
            "Row(('ADAIR', 'ADAIR', '2021-04-02', {'attributions': [{'featureAttributions': {'date': -75.81591796875, 'sale_dollars': -1064.9026692708333, 'city': 76.23038736979167, 'zip_code': -39.8702392578125, 'county': 19.311319986979168}, 'outputDisplayName': None}]}, {'value': 2069.677490234375}, None, \"CASEY'S GENERAL STORE #2521 / ADAIR\", '50002.0'), {'city': 0, 'county': 1, 'date': 2, 'explanation': 3, 'predicted_sale_dollars': 4, 'sale_dollars': 5, 'store_name': 6, 'zip_code': 7})\n",
            "Row(('ADAIR', 'ADAIR', '2021-04-30', {'attributions': [{'featureAttributions': {'date': -64.22096761067708, 'sale_dollars': -1084.843282063802, 'city': 68.56606038411458, 'zip_code': -47.75640869140625, 'county': 15.860677083333334}, 'outputDisplayName': None}]}, {'value': 2020.4320068359375}, None, \"CASEY'S GENERAL STORE #2521 / ADAIR\", '50002.0'), {'city': 0, 'county': 1, 'date': 2, 'explanation': 3, 'predicted_sale_dollars': 4, 'sale_dollars': 5, 'store_name': 6, 'zip_code': 7})\n",
            "Row(('ADAIR', 'ADAIR', '2021-04-16', {'attributions': [{'featureAttributions': {'date': -134.9168904622396, 'sale_dollars': -1373.512674967448, 'city': 75.47515869140625, 'zip_code': -40.485880533854164, 'county': 17.12017822265625}, 'outputDisplayName': None}]}, {'value': 1758.664306640625}, None, 'KUM & GO #76 / ADAIR', '50002.0'), {'city': 0, 'county': 1, 'date': 2, 'explanation': 3, 'predicted_sale_dollars': 4, 'sale_dollars': 5, 'store_name': 6, 'zip_code': 7})\n",
            "Row(('ADAIR', 'ADAIR', '2021-04-23', {'attributions': [{'featureAttributions': {'date': -64.31038411458333, 'sale_dollars': -1367.1704915364583, 'city': -8.471944173177084, 'zip_code': 0.3052164713541667, 'county': 15.314107259114584}, 'outputDisplayName': None}]}, {'value': 1784.6500244140625}, None, 'KUM & GO #76 / ADAIR', '50002.0'), {'city': 0, 'county': 1, 'date': 2, 'explanation': 3, 'predicted_sale_dollars': 4, 'sale_dollars': 5, 'store_name': 6, 'zip_code': 7})\n",
            "Row(('STUART', 'ADAIR', '2021-04-09', {'attributions': [{'featureAttributions': {'date': -103.32411702473958, 'sale_dollars': -1270.0480346679688, 'city': 121.10634358723958, 'zip_code': -47.414591471354164, 'county': 20.39239501953125}, 'outputDisplayName': None}]}, {'value': 1913.150634765625}, None, 'KUM & GO #510 / STUART', '50250.0'), {'city': 0, 'county': 1, 'date': 2, 'explanation': 3, 'predicted_sale_dollars': 4, 'sale_dollars': 5, 'store_name': 6, 'zip_code': 7})\n",
            "Row(('STUART', 'ADAIR', '2021-04-16', {'attributions': [{'featureAttributions': {'date': -54.547932942708336, 'sale_dollars': -1273.174825032552, 'city': 93.54951985677083, 'zip_code': -57.2227783203125, 'county': 15.362447102864584}, 'outputDisplayName': None}]}, {'value': 1903.9873046875}, None, 'KUM & GO #510 / STUART', '50250.0'), {'city': 0, 'county': 1, 'date': 2, 'explanation': 3, 'predicted_sale_dollars': 4, 'sale_dollars': 5, 'store_name': 6, 'zip_code': 7})\n",
            "Row(('STUART', 'ADAIR', '2021-04-23', {'attributions': [{'featureAttributions': {'date': -31.896158854166668, 'sale_dollars': -1277.9256388346355, 'city': 68.52394612630208, 'zip_code': -49.867757161458336, 'county': 5.534016927083333}, 'outputDisplayName': None}]}, {'value': 1927.1536865234375}, None, 'KUM & GO #510 / STUART', '50250.0'), {'city': 0, 'county': 1, 'date': 2, 'explanation': 3, 'predicted_sale_dollars': 4, 'sale_dollars': 5, 'store_name': 6, 'zip_code': 7})\n",
            "Row(('STUART', 'ADAIR', '2021-04-30', {'attributions': [{'featureAttributions': {'date': -75.61322021484375, 'sale_dollars': -1303.4009602864583, 'city': 47.514973958333336, 'zip_code': -38.387471516927086, 'county': 10.34375}, 'outputDisplayName': None}]}, {'value': 1858.4520263671875}, None, 'KUM & GO #510 / STUART', '50250.0'), {'city': 0, 'county': 1, 'date': 2, 'explanation': 3, 'predicted_sale_dollars': 4, 'sale_dollars': 5, 'store_name': 6, 'zip_code': 7})\n",
            "Row(('STUART', 'ADAIR', '2021-04-09', {'attributions': [{'featureAttributions': {'date': -99.68339029947917, 'sale_dollars': 531.9110107421875, 'city': 107.9639892578125, 'zip_code': -39.831624348958336, 'county': 15.0477294921875}, 'outputDisplayName': None}]}, {'value': 3672.948486328125}, None, \"CASEY'S #2654 / STUART\", '50250.0'), {'city': 0, 'county': 1, 'date': 2, 'explanation': 3, 'predicted_sale_dollars': 4, 'sale_dollars': 5, 'store_name': 6, 'zip_code': 7})\n",
            "Row(('STUART', 'ADAIR', '2021-04-16', {'attributions': [{'featureAttributions': {'date': -51.241658528645836, 'sale_dollars': 539.5249430338541, 'city': 57.7916259765625, 'zip_code': -32.6241455078125, 'county': 20.296305338541668}, 'outputDisplayName': None}]}, {'value': 3669.624755859375}, None, \"CASEY'S #2654 / STUART\", '50250.0'), {'city': 0, 'county': 1, 'date': 2, 'explanation': 3, 'predicted_sale_dollars': 4, 'sale_dollars': 5, 'store_name': 6, 'zip_code': 7})\n",
            "Row(('STUART', 'ADAIR', '2021-04-30', {'attributions': [{'featureAttributions': {'date': -92.91853841145833, 'sale_dollars': 527.5396728515625, 'city': 47.184000651041664, 'zip_code': -11.611572265625, 'county': 1.4834798177083333}, 'outputDisplayName': None}]}, {'value': 3598.666748046875}, None, \"CASEY'S #2654 / STUART\", '50250.0'), {'city': 0, 'county': 1, 'date': 2, 'explanation': 3, 'predicted_sale_dollars': 4, 'sale_dollars': 5, 'store_name': 6, 'zip_code': 7})\n",
            "Row(('FONTANELLE', 'ADAIR', '2021-04-23', {'attributions': [{'featureAttributions': {'date': 15.6943359375, 'sale_dollars': -875.9423421223959, 'city': 0.0, 'zip_code': -32.056966145833336, 'county': 35.644816080729164}, 'outputDisplayName': None}]}, {'value': 2294.30322265625}, None, \"CASEY'S GENERAL STORE #1081 / FONTANELLE\", '50846.0'), {'city': 0, 'county': 1, 'date': 2, 'explanation': 3, 'predicted_sale_dollars': 4, 'sale_dollars': 5, 'store_name': 6, 'zip_code': 7})\n",
            "Row(('GREENFIELD', 'ADAIR', '2021-04-02', {'attributions': [{'featureAttributions': {'date': -31.036661783854168, 'sale_dollars': 602.209716796875, 'city': 122.13260904947917, 'zip_code': -30.9654541015625, 'county': 20.2545166015625}, 'outputDisplayName': None}]}, {'value': 3823.639404296875}, None, 'FAREWAY STORES #941 / GREENFIELD', '50849.0'), {'city': 0, 'county': 1, 'date': 2, 'explanation': 3, 'predicted_sale_dollars': 4, 'sale_dollars': 5, 'store_name': 6, 'zip_code': 7})\n",
            "Row(('GREENFIELD', 'ADAIR', '2021-04-09', {'attributions': [{'featureAttributions': {'date': -41.396728515625, 'sale_dollars': 608.7666015625, 'city': 69.78361002604167, 'zip_code': -35.9078369140625, 'county': 15.717732747395834}, 'outputDisplayName': None}]}, {'value': 3748.882568359375}, None, 'FAREWAY STORES #941 / GREENFIELD', '50849.0'), {'city': 0, 'county': 1, 'date': 2, 'explanation': 3, 'predicted_sale_dollars': 4, 'sale_dollars': 5, 'store_name': 6, 'zip_code': 7})\n",
            "Row(('GREENFIELD', 'ADAIR', '2021-04-16', {'attributions': [{'featureAttributions': {'date': -33.794189453125, 'sale_dollars': 615.4674886067709, 'city': 79.7410888671875, 'zip_code': -20.830037434895832, 'county': 16.2984619140625}, 'outputDisplayName': None}]}, {'value': 3819.099365234375}, None, 'FAREWAY STORES #941 / GREENFIELD', '50849.0'), {'city': 0, 'county': 1, 'date': 2, 'explanation': 3, 'predicted_sale_dollars': 4, 'sale_dollars': 5, 'store_name': 6, 'zip_code': 7})\n",
            "Row(('GREENFIELD', 'ADAIR', '2021-04-23', {'attributions': [{'featureAttributions': {'date': -101.08927408854167, 'sale_dollars': 607.2360026041666, 'city': 15.425130208333334, 'zip_code': -19.524617513020832, 'county': 9.3980712890625}, 'outputDisplayName': None}]}, {'value': 3703.062255859375}, None, 'FAREWAY STORES #941 / GREENFIELD', '50849.0'), {'city': 0, 'county': 1, 'date': 2, 'explanation': 3, 'predicted_sale_dollars': 4, 'sale_dollars': 5, 'store_name': 6, 'zip_code': 7})\n",
            "Row(('GREENFIELD', 'ADAIR', '2021-04-30', {'attributions': [{'featureAttributions': {'date': -34.1160888671875, 'sale_dollars': 623.7747395833334, 'city': 11.235107421875, 'zip_code': -30.964884440104168, 'county': -7.675211588541667}, 'outputDisplayName': None}]}, {'value': 3771.671630859375}, None, 'FAREWAY STORES #941 / GREENFIELD', '50849.0'), {'city': 0, 'county': 1, 'date': 2, 'explanation': 3, 'predicted_sale_dollars': 4, 'sale_dollars': 5, 'store_name': 6, 'zip_code': 7})\n",
            "Row(('GREENFIELD', 'ADAIR', '2021-04-02', {'attributions': [{'featureAttributions': {'date': -107.89847819010417, 'sale_dollars': -447.2340494791667, 'city': 95.729736328125, 'zip_code': -38.249918619791664, 'county': 21.4862060546875}, 'outputDisplayName': None}]}, {'value': 2707.39697265625}, None, \"CASEY'S GENERAL STORE #3220 / GREENF\", '50849.0'), {'city': 0, 'county': 1, 'date': 2, 'explanation': 3, 'predicted_sale_dollars': 4, 'sale_dollars': 5, 'store_name': 6, 'zip_code': 7})\n",
            "Row(('GREENFIELD', 'ADAIR', '2021-04-16', {'attributions': [{'featureAttributions': {'date': -82.229736328125, 'sale_dollars': -449.1288248697917, 'city': 71.03946940104167, 'zip_code': -45.7357177734375, 'county': 22.6422119140625}, 'outputDisplayName': None}]}, {'value': 2683.368896484375}, None, \"CASEY'S GENERAL STORE #3220 / GREENF\", '50849.0'), {'city': 0, 'county': 1, 'date': 2, 'explanation': 3, 'predicted_sale_dollars': 4, 'sale_dollars': 5, 'store_name': 6, 'zip_code': 7})\n",
            "Row(('GREENFIELD', 'ADAIR', '2021-04-30', {'attributions': [{'featureAttributions': {'date': -92.93168131510417, 'sale_dollars': -450.3328043619792, 'city': 39.758748372395836, 'zip_code': -20.450439453125, 'county': 9.9293212890625}, 'outputDisplayName': None}]}, {'value': 2636.808349609375}, None, \"CASEY'S GENERAL STORE #3220 / GREENF\", '50849.0'), {'city': 0, 'county': 1, 'date': 2, 'explanation': 3, 'predicted_sale_dollars': 4, 'sale_dollars': 5, 'store_name': 6, 'zip_code': 7})\n",
            "Row(('CORNING', 'ADAMS', '2021-04-09', {'attributions': [{'featureAttributions': {'date': -113.07145182291667, 'sale_dollars': -922.5588785807291, 'city': 89.76249186197917, 'zip_code': -50.528157552083336, 'county': 13.625732421875}, 'outputDisplayName': None}]}, {'value': 2171.95556640625}, None, \"CASEY'S GENERAL STORE #1653 / CORNING\", '50841.0'), {'city': 0, 'county': 1, 'date': 2, 'explanation': 3, 'predicted_sale_dollars': 4, 'sale_dollars': 5, 'store_name': 6, 'zip_code': 7})\n",
            "Row(('CORNING', 'ADAMS', '2021-04-30', {'attributions': [{'featureAttributions': {'date': -79.60042317708333, 'sale_dollars': -933.4217122395834, 'city': 78.86767578125, 'zip_code': -74.39546712239583, 'county': 12.3848876953125}, 'outputDisplayName': None}]}, {'value': 2136.672119140625}, None, \"CASEY'S GENERAL STORE #1653 / CORNING\", '50841.0'), {'city': 0, 'county': 1, 'date': 2, 'explanation': 3, 'predicted_sale_dollars': 4, 'sale_dollars': 5, 'store_name': 6, 'zip_code': 7})\n",
            "Row(('CORNING', 'ADAMS', '2021-04-02', {'attributions': [{'featureAttributions': {'date': -21.611572265625, 'sale_dollars': 878.7885335286459, 'city': 111.10884602864583, 'zip_code': -13.426228841145834, 'county': 19.293497721354168}, 'outputDisplayName': None}]}, {'value': 4115.197265625}, None, 'HY-VEE FOOD STORE / CORNING', '50841.0'), {'city': 0, 'county': 1, 'date': 2, 'explanation': 3, 'predicted_sale_dollars': 4, 'sale_dollars': 5, 'store_name': 6, 'zip_code': 7})\n",
            "Row(('CORNING', 'ADAMS', '2021-04-09', {'attributions': [{'featureAttributions': {'date': -20.3870849609375, 'sale_dollars': 885.3075764973959, 'city': 59.513142903645836, 'zip_code': -17.463460286458332, 'county': 7.763956705729167}, 'outputDisplayName': None}]}, {'value': 4046.61767578125}, None, 'HY-VEE FOOD STORE / CORNING', '50841.0'), {'city': 0, 'county': 1, 'date': 2, 'explanation': 3, 'predicted_sale_dollars': 4, 'sale_dollars': 5, 'store_name': 6, 'zip_code': 7})\n",
            "Row(('CORNING', 'ADAMS', '2021-04-16', {'attributions': [{'featureAttributions': {'date': -19.6646728515625, 'sale_dollars': 890.0107014973959, 'city': 90.59977213541667, 'zip_code': -12.30517578125, 'county': 20.382568359375}, 'outputDisplayName': None}]}, {'value': 4131.2314453125}, None, 'HY-VEE FOOD STORE / CORNING', '50841.0'), {'city': 0, 'county': 1, 'date': 2, 'explanation': 3, 'predicted_sale_dollars': 4, 'sale_dollars': 5, 'store_name': 6, 'zip_code': 7})\n",
            "Row(('CORNING', 'ADAMS', '2021-04-23', {'attributions': [{'featureAttributions': {'date': -116.64921061197917, 'sale_dollars': 874.3647867838541, 'city': 7.369954427083333, 'zip_code': -22.896158854166668, 'county': 21.345784505208332}, 'outputDisplayName': None}]}, {'value': 3955.142578125}, None, 'HY-VEE FOOD STORE / CORNING', '50841.0'), {'city': 0, 'county': 1, 'date': 2, 'explanation': 3, 'predicted_sale_dollars': 4, 'sale_dollars': 5, 'store_name': 6, 'zip_code': 7})\n",
            "Row(('CORNING', 'ADAMS', '2021-04-30', {'attributions': [{'featureAttributions': {'date': -53.760579427083336, 'sale_dollars': 897.2346598307291, 'city': 13.1925048828125, 'zip_code': -37.015380859375, 'county': -14.455403645833334}, 'outputDisplayName': None}]}, {'value': 4014.60400390625}, None, 'HY-VEE FOOD STORE / CORNING', '50841.0'), {'city': 0, 'county': 1, 'date': 2, 'explanation': 3, 'predicted_sale_dollars': 4, 'sale_dollars': 5, 'store_name': 6, 'zip_code': 7})\n",
            "Row(('HARPERS FERRY', 'ALLAMAKEE', '2021-04-02', {'attributions': [{'featureAttributions': {'date': -99.239013671875, 'sale_dollars': 0.0, 'city': 46.032958984375, 'zip_code': -40.302652994791664, 'county': 63.407633463541664}, 'outputDisplayName': None}]}, {'value': 4378.35107421875}, None, 'HARPERS ONE STOP / HARPERS FERRY', '52146.0'), {'city': 0, 'county': 1, 'date': 2, 'explanation': 3, 'predicted_sale_dollars': 4, 'sale_dollars': 5, 'store_name': 6, 'zip_code': 7})\n",
            "Row(('HARPERS FERRY', 'ALLAMAKEE', '2021-04-02', {'attributions': [{'featureAttributions': {'date': -114.70721435546875, 'sale_dollars': -1220.2528279622395, 'city': 79.41998291015625, 'zip_code': -29.936747233072918, 'county': 49.627685546875}, 'outputDisplayName': None}]}, {'value': 1926.932861328125}, None, 'BARRYS MINI MART', '52146.0'), {'city': 0, 'county': 1, 'date': 2, 'explanation': 3, 'predicted_sale_dollars': 4, 'sale_dollars': 5, 'store_name': 6, 'zip_code': 7})\n",
            "Row(('HARPERS FERRY', 'ALLAMAKEE', '2021-04-23', {'attributions': [{'featureAttributions': {'date': -42.899373372395836, 'sale_dollars': -1220.2763671875, 'city': 28.349812825520832, 'zip_code': -27.942952473958332, 'county': 44.451131184895836}, 'outputDisplayName': None}]}, {'value': 1931.3885498046875}, None, 'BARRYS MINI MART', '52146.0'), {'city': 0, 'county': 1, 'date': 2, 'explanation': 3, 'predicted_sale_dollars': 4, 'sale_dollars': 5, 'store_name': 6, 'zip_code': 7})\n",
            "Row(('LANSING', 'ALLAMAKEE', '2021-04-02', {'attributions': [{'featureAttributions': {'date': -61.967488606770836, 'sale_dollars': -768.7470296223959, 'city': 98.99857584635417, 'zip_code': -18.764485677083332, 'county': 56.657185872395836}, 'outputDisplayName': None}]}, {'value': 2447.22802734375}, None, 'LANSING IGA', '52151.0'), {'city': 0, 'county': 1, 'date': 2, 'explanation': 3, 'predicted_sale_dollars': 4, 'sale_dollars': 5, 'store_name': 6, 'zip_code': 7})\n",
            "Row(('LANSING', 'ALLAMAKEE', '2021-04-09', {'attributions': [{'featureAttributions': {'date': -59.910359700520836, 'sale_dollars': -766.2428385416666, 'city': 38.259073893229164, 'zip_code': -29.65771484375, 'county': 49.346761067708336}, 'outputDisplayName': None}]}, {'value': 2363.712890625}, None, 'LANSING IGA', '52151.0'), {'city': 0, 'county': 1, 'date': 2, 'explanation': 3, 'predicted_sale_dollars': 4, 'sale_dollars': 5, 'store_name': 6, 'zip_code': 7})\n",
            "Row(('LANSING', 'ALLAMAKEE', '2021-04-16', {'attributions': [{'featureAttributions': {'date': -54.450602213541664, 'sale_dollars': -775.6895751953125, 'city': 43.571573893229164, 'zip_code': -10.563517252604166, 'county': 53.887491861979164}, 'outputDisplayName': None}]}, {'value': 2418.999267578125}, None, 'LANSING IGA', '52151.0'), {'city': 0, 'county': 1, 'date': 2, 'explanation': 3, 'predicted_sale_dollars': 4, 'sale_dollars': 5, 'store_name': 6, 'zip_code': 7})\n",
            "Row(('LANSING', 'ALLAMAKEE', '2021-04-23', {'attributions': [{'featureAttributions': {'date': -105.76493326822917, 'sale_dollars': -761.783935546875, 'city': 11.615478515625, 'zip_code': -21.014933268229168, 'county': 35.484944661458336}, 'outputDisplayName': None}]}, {'value': 2350.21142578125}, None, 'LANSING IGA', '52151.0'), {'city': 0, 'county': 1, 'date': 2, 'explanation': 3, 'predicted_sale_dollars': 4, 'sale_dollars': 5, 'store_name': 6, 'zip_code': 7})\n",
            "Row(('LANSING', 'ALLAMAKEE', '2021-04-30', {'attributions': [{'featureAttributions': {'date': -55.690592447916664, 'sale_dollars': -777.3101806640625, 'city': 12.0396728515625, 'zip_code': -35.647216796875, 'county': 23.815592447916668}, 'outputDisplayName': None}]}, {'value': 2376.655029296875}, None, 'LANSING IGA', '52151.0'), {'city': 0, 'county': 1, 'date': 2, 'explanation': 3, 'predicted_sale_dollars': 4, 'sale_dollars': 5, 'store_name': 6, 'zip_code': 7})\n",
            "Row(('POSTVILLE', 'ALLAMAKEE', '2021-04-16', {'attributions': [{'featureAttributions': {'date': -87.60213216145833, 'sale_dollars': -1334.4711303710938, 'city': 51.382792154947914, 'zip_code': -28.97308349609375, 'county': 39.440775553385414}, 'outputDisplayName': None}]}, {'value': 1765.5855712890625}, None, \"CASEY'S GENERAL STORE #3639 / POSTVILLE\", '52162.0'), {'city': 0, 'county': 1, 'date': 2, 'explanation': 3, 'predicted_sale_dollars': 4, 'sale_dollars': 5, 'store_name': 6, 'zip_code': 7})\n",
            "Row(('WAUKON', 'ALLAMAKEE', '2021-04-02', {'attributions': [{'featureAttributions': {'date': -1.8523356119791667, 'sale_dollars': 3732.293172200521, 'city': 75.447998046875, 'zip_code': -60.659993489583336, 'county': 63.7137451171875}, 'outputDisplayName': None}]}, {'value': 7028.55810546875}, None, 'DOUBLE D LIQUOR STORE / WAUKON', '52172.0'), {'city': 0, 'county': 1, 'date': 2, 'explanation': 3, 'predicted_sale_dollars': 4, 'sale_dollars': 5, 'store_name': 6, 'zip_code': 7})\n",
            "Row(('WAUKON', 'ALLAMAKEE', '2021-04-09', {'attributions': [{'featureAttributions': {'date': -3.9970296223958335, 'sale_dollars': 3805.5013020833335, 'city': 32.612996419270836, 'zip_code': -59.320760091145836, 'county': 60.3951416015625}, 'outputDisplayName': None}]}, {'value': 7050.57763671875}, None, 'DOUBLE D LIQUOR STORE / WAUKON', '52172.0'), {'city': 0, 'county': 1, 'date': 2, 'explanation': 3, 'predicted_sale_dollars': 4, 'sale_dollars': 5, 'store_name': 6, 'zip_code': 7})\n",
            "Row(('WAUKON', 'ALLAMAKEE', '2021-04-16', {'attributions': [{'featureAttributions': {'date': -92.68294270833333, 'sale_dollars': 3794.85107421875, 'city': 99.16764322916667, 'zip_code': -49.901082356770836, 'county': 63.4056396484375}, 'outputDisplayName': None}]}, {'value': 7059.91650390625}, None, 'DOUBLE D LIQUOR STORE / WAUKON', '52172.0'), {'city': 0, 'county': 1, 'date': 2, 'explanation': 3, 'predicted_sale_dollars': 4, 'sale_dollars': 5, 'store_name': 6, 'zip_code': 7})\n",
            "Row(('WAUKON', 'ALLAMAKEE', '2021-04-23', {'attributions': [{'featureAttributions': {'date': -215.15230305989584, 'sale_dollars': 3708.08447265625, 'city': -19.954305013020832, 'zip_code': -42.062581380208336, 'county': 40.44775390625}, 'outputDisplayName': None}]}, {'value': 6753.7158203125}, None, 'DOUBLE D LIQUOR STORE / WAUKON', '52172.0'), {'city': 0, 'county': 1, 'date': 2, 'explanation': 3, 'predicted_sale_dollars': 4, 'sale_dollars': 5, 'store_name': 6, 'zip_code': 7})\n",
            "Row(('WAUKON', 'ALLAMAKEE', '2021-04-30', {'attributions': [{'featureAttributions': {'date': -57.678019205729164, 'sale_dollars': 3852.1805826822915, 'city': 4.149332682291667, 'zip_code': -70.51652018229167, 'county': 5.1837158203125}, 'outputDisplayName': None}]}, {'value': 7038.83447265625}, None, 'DOUBLE D LIQUOR STORE / WAUKON', '52172.0'), {'city': 0, 'county': 1, 'date': 2, 'explanation': 3, 'predicted_sale_dollars': 4, 'sale_dollars': 5, 'store_name': 6, 'zip_code': 7})\n",
            "Row(('WAUKON', 'ALLAMAKEE', '2021-04-02', {'attributions': [{'featureAttributions': {'date': -56.947550455729164, 'sale_dollars': -496.456298828125, 'city': 88.8284912109375, 'zip_code': -69.2977294921875, 'county': 58.940714518229164}, 'outputDisplayName': None}]}, {'value': 2693.11962890625}, None, 'FAREWAY STORES #062 / WAUKON', '52172.0'), {'city': 0, 'county': 1, 'date': 2, 'explanation': 3, 'predicted_sale_dollars': 4, 'sale_dollars': 5, 'store_name': 6, 'zip_code': 7})\n",
            "Row(('WAUKON', 'ALLAMAKEE', '2021-04-09', {'attributions': [{'featureAttributions': {'date': -61.341023763020836, 'sale_dollars': -497.027587890625, 'city': 65.41072591145833, 'zip_code': -75.3040771484375, 'county': 53.270833333333336}, 'outputDisplayName': None}]}, {'value': 2641.12109375}, None, 'FAREWAY STORES #062 / WAUKON', '52172.0'), {'city': 0, 'county': 1, 'date': 2, 'explanation': 3, 'predicted_sale_dollars': 4, 'sale_dollars': 5, 'store_name': 6, 'zip_code': 7})\n",
            "Row(('WAUKON', 'ALLAMAKEE', '2021-04-16', {'attributions': [{'featureAttributions': {'date': -41.634928385416664, 'sale_dollars': -500.5077718098958, 'city': 65.420166015625, 'zip_code': -62.78857421875, 'county': 60.4149169921875}, 'outputDisplayName': None}]}, {'value': 2687.540283203125}, None, 'FAREWAY STORES #062 / WAUKON', '52172.0'), {'city': 0, 'county': 1, 'date': 2, 'explanation': 3, 'predicted_sale_dollars': 4, 'sale_dollars': 5, 'store_name': 6, 'zip_code': 7})\n",
            "Row(('WAUKON', 'ALLAMAKEE', '2021-04-23', {'attributions': [{'featureAttributions': {'date': -92.92106119791667, 'sale_dollars': -495.2747395833333, 'city': 22.0189208984375, 'zip_code': -50.737019856770836, 'county': 39.695882161458336}, 'outputDisplayName': None}]}, {'value': 2633.8994140625}, None, 'FAREWAY STORES #062 / WAUKON', '52172.0'), {'city': 0, 'county': 1, 'date': 2, 'explanation': 3, 'predicted_sale_dollars': 4, 'sale_dollars': 5, 'store_name': 6, 'zip_code': 7})\n",
            "Row(('WAUKON', 'ALLAMAKEE', '2021-04-30', {'attributions': [{'featureAttributions': {'date': -45.374104817708336, 'sale_dollars': -503.0089925130208, 'city': 24.867757161458332, 'zip_code': -81.91255696614583, 'county': 17.858561197916668}, 'outputDisplayName': None}]}, {'value': 2641.537841796875}, None, 'FAREWAY STORES #062 / WAUKON', '52172.0'), {'city': 0, 'county': 1, 'date': 2, 'explanation': 3, 'predicted_sale_dollars': 4, 'sale_dollars': 5, 'store_name': 6, 'zip_code': 7})\n",
            "Row(('WAUKON', 'ALLAMAKEE', '2021-04-02', {'attributions': [{'featureAttributions': {'date': -18.985310872395832, 'sale_dollars': 3030.1383463541665, 'city': 78.26078287760417, 'zip_code': -61.8050537109375, 'county': 64.2904052734375}, 'outputDisplayName': None}]}, {'value': 6232.9033203125}, None, 'QUILLINS FOOD RANCH / WAUKON', '52172.0'), {'city': 0, 'county': 1, 'date': 2, 'explanation': 3, 'predicted_sale_dollars': 4, 'sale_dollars': 5, 'store_name': 6, 'zip_code': 7})\n",
            "Row(('WAUKON', 'ALLAMAKEE', '2021-04-09', {'attributions': [{'featureAttributions': {'date': -13.157430013020834, 'sale_dollars': 3097.1654052734375, 'city': 23.169596354166668, 'zip_code': -54.704996744791664, 'county': 59.547688802083336}, 'outputDisplayName': None}]}, {'value': 6243.8271484375}, None, 'QUILLINS FOOD RANCH / WAUKON', '52172.0'), {'city': 0, 'county': 1, 'date': 2, 'explanation': 3, 'predicted_sale_dollars': 4, 'sale_dollars': 5, 'store_name': 6, 'zip_code': 7})\n",
            "Row(('WAUKON', 'ALLAMAKEE', '2021-04-16', {'attributions': [{'featureAttributions': {'date': -80.41227213541667, 'sale_dollars': 3099.050821940104, 'city': 67.28397623697917, 'zip_code': -41.385660807291664, 'county': 62.640625}, 'outputDisplayName': None}]}, {'value': 6269.36083984375}, None, 'QUILLINS FOOD RANCH / WAUKON', '52172.0'), {'city': 0, 'county': 1, 'date': 2, 'explanation': 3, 'predicted_sale_dollars': 4, 'sale_dollars': 5, 'store_name': 6, 'zip_code': 7})\n",
            "Row(('WAUKON', 'ALLAMAKEE', '2021-04-23', {'attributions': [{'featureAttributions': {'date': -161.58573404947916, 'sale_dollars': 3041.1193033854165, 'city': -23.597737630208332, 'zip_code': -37.796915690104164, 'county': 39.0625}, 'outputDisplayName': None}]}, {'value': 6048.7841796875}, None, 'QUILLINS FOOD RANCH / WAUKON', '52172.0'), {'city': 0, 'county': 1, 'date': 2, 'explanation': 3, 'predicted_sale_dollars': 4, 'sale_dollars': 5, 'store_name': 6, 'zip_code': 7})\n",
            "Row(('WAUKON', 'ALLAMAKEE', '2021-04-30', {'attributions': [{'featureAttributions': {'date': -34.125773111979164, 'sale_dollars': 3140.212361653646, 'city': -4.461995442708333, 'zip_code': -67.39453125, 'county': 9.124430338541666}, 'outputDisplayName': None}]}, {'value': 6252.779296875}, None, 'QUILLINS FOOD RANCH / WAUKON', '52172.0'), {'city': 0, 'county': 1, 'date': 2, 'explanation': 3, 'predicted_sale_dollars': 4, 'sale_dollars': 5, 'store_name': 6, 'zip_code': 7})\n",
            "Row(('WAUKON', 'ALLAMAKEE', '2021-04-02', {'attributions': [{'featureAttributions': {'date': -85.30342610677083, 'sale_dollars': -989.1793619791666, 'city': 89.16243489583333, 'zip_code': -70.51953125, 'county': 56.083984375}, 'outputDisplayName': None}]}, {'value': 2192.6689453125}, None, 'HY-VEE WAUKON DOLLAR FRESH', '52172.0'), {'city': 0, 'county': 1, 'date': 2, 'explanation': 3, 'predicted_sale_dollars': 4, 'sale_dollars': 5, 'store_name': 6, 'zip_code': 7})\n",
            "Row(('WAUKON', 'ALLAMAKEE', '2021-04-09', {'attributions': [{'featureAttributions': {'date': -56.920654296875, 'sale_dollars': -998.4659423828125, 'city': 57.0355224609375, 'zip_code': -77.00138346354167, 'county': 51.005777994791664}, 'outputDisplayName': None}]}, {'value': 2155.669677734375}, None, 'HY-VEE WAUKON DOLLAR FRESH', '52172.0'), {'city': 0, 'county': 1, 'date': 2, 'explanation': 3, 'predicted_sale_dollars': 4, 'sale_dollars': 5, 'store_name': 6, 'zip_code': 7})\n",
            "Row(('WAUKON', 'ALLAMAKEE', '2021-04-23', {'attributions': [{'featureAttributions': {'date': -32.354329427083336, 'sale_dollars': -995.0292561848959, 'city': 11.6656494140625, 'zip_code': -52.997111002604164, 'county': 43.854451497395836}, 'outputDisplayName': None}]}, {'value': 2187.879150390625}, None, 'HY-VEE WAUKON DOLLAR FRESH', '52172.0'), {'city': 0, 'county': 1, 'date': 2, 'explanation': 3, 'predicted_sale_dollars': 4, 'sale_dollars': 5, 'store_name': 6, 'zip_code': 7})\n",
            "Row(('WAUKON', 'ALLAMAKEE', '2021-04-30', {'attributions': [{'featureAttributions': {'date': -75.09993489583333, 'sale_dollars': -1015.9010009765625, 'city': 30.112630208333332, 'zip_code': -65.24556477864583, 'county': 35.814453125}, 'outputDisplayName': None}]}, {'value': 2127.674560546875}, None, 'HY-VEE WAUKON DOLLAR FRESH', '52172.0'), {'city': 0, 'county': 1, 'date': 2, 'explanation': 3, 'predicted_sale_dollars': 4, 'sale_dollars': 5, 'store_name': 6, 'zip_code': 7})\n",
            "Row(('WAUKON', 'ALLAMAKEE', '2021-04-16', {'attributions': [{'featureAttributions': {'date': -84.88055419921875, 'sale_dollars': -1080.2340698242188, 'city': 31.049357096354168, 'zip_code': -47.45355224609375, 'county': 44.08197021484375}, 'outputDisplayName': None}]}, {'value': 2012.684814453125}, None, \"CASEY'S GENERAL STORE #1997 / WAUKON\", '52172.0'), {'city': 0, 'county': 1, 'date': 2, 'explanation': 3, 'predicted_sale_dollars': 4, 'sale_dollars': 5, 'store_name': 6, 'zip_code': 7})\n",
            "Row(('CENTERVILLE', 'APPANOOSE', '2021-04-02', {'attributions': [{'featureAttributions': {'date': -46.819539388020836, 'sale_dollars': -29.066446940104168, 'city': 103.755126953125, 'zip_code': 30.058553059895832, 'county': 38.130208333333336}, 'outputDisplayName': None}]}, {'value': 3265.022216796875}, None, 'QUICK SHOP FOODS / CENTERVILLE', '52544.0'), {'city': 0, 'county': 1, 'date': 2, 'explanation': 3, 'predicted_sale_dollars': 4, 'sale_dollars': 5, 'store_name': 6, 'zip_code': 7})\n",
            "Row(('CENTERVILLE', 'APPANOOSE', '2021-04-09', {'attributions': [{'featureAttributions': {'date': -38.020955403645836, 'sale_dollars': -26.783976236979168, 'city': 46.4088134765625, 'zip_code': 14.344441731770834, 'county': 26.642985026041668}, 'outputDisplayName': None}]}, {'value': 3175.71826171875}, None, 'QUICK SHOP FOODS / CENTERVILLE', '52544.0'), {'city': 0, 'county': 1, 'date': 2, 'explanation': 3, 'predicted_sale_dollars': 4, 'sale_dollars': 5, 'store_name': 6, 'zip_code': 7})\n",
            "Row(('CENTERVILLE', 'APPANOOSE', '2021-04-16', {'attributions': [{'featureAttributions': {'date': -56.636800130208336, 'sale_dollars': -21.172932942708332, 'city': 53.69140625, 'zip_code': 27.70703125, 'county': 27.668863932291668}, 'outputDisplayName': None}]}, {'value': 3198.913818359375}, None, 'QUICK SHOP FOODS / CENTERVILLE', '52544.0'), {'city': 0, 'county': 1, 'date': 2, 'explanation': 3, 'predicted_sale_dollars': 4, 'sale_dollars': 5, 'store_name': 6, 'zip_code': 7})\n",
            "Row(('CENTERVILLE', 'APPANOOSE', '2021-04-30', {'attributions': [{'featureAttributions': {'date': -81.923095703125, 'sale_dollars': -29.224934895833332, 'city': 28.311848958333332, 'zip_code': 5.6236572265625, 'county': 13.6302490234375}, 'outputDisplayName': None}]}, {'value': 3123.803466796875}, None, 'QUICK SHOP FOODS / CENTERVILLE', '52544.0'), {'city': 0, 'county': 1, 'date': 2, 'explanation': 3, 'predicted_sale_dollars': 4, 'sale_dollars': 5, 'store_name': 6, 'zip_code': 7})\n",
            "Row(('CENTERVILLE', 'APPANOOSE', '2021-04-02', {'attributions': [{'featureAttributions': {'date': -31.626505533854168, 'sale_dollars': 616.6054280598959, 'city': 105.30244954427083, 'zip_code': 42.284952799479164, 'county': 40.586507161458336}, 'outputDisplayName': None}]}, {'value': 3914.163818359375}, None, 'WAL-MART 1621 / CENTERVILLE', '52544.0'), {'city': 0, 'county': 1, 'date': 2, 'explanation': 3, 'predicted_sale_dollars': 4, 'sale_dollars': 5, 'store_name': 6, 'zip_code': 7})\n",
            "Row(('CENTERVILLE', 'APPANOOSE', '2021-04-09', {'attributions': [{'featureAttributions': {'date': -35.389119466145836, 'sale_dollars': 624.9491780598959, 'city': 58.166341145833336, 'zip_code': 25.330240885416668, 'county': 25.2021484375}, 'outputDisplayName': None}]}, {'value': 3830.125}, None, 'WAL-MART 1621 / CENTERVILLE', '52544.0'), {'city': 0, 'county': 1, 'date': 2, 'explanation': 3, 'predicted_sale_dollars': 4, 'sale_dollars': 5, 'store_name': 6, 'zip_code': 7})\n",
            "Row(('CENTERVILLE', 'APPANOOSE', '2021-04-16', {'attributions': [{'featureAttributions': {'date': -64.7794189453125, 'sale_dollars': 630.2552897135416, 'city': 80.7833251953125, 'zip_code': 40.521240234375, 'county': 32.504720052083336}, 'outputDisplayName': None}]}, {'value': 3881.481201171875}, None, 'WAL-MART 1621 / CENTERVILLE', '52544.0'), {'city': 0, 'county': 1, 'date': 2, 'explanation': 3, 'predicted_sale_dollars': 4, 'sale_dollars': 5, 'store_name': 6, 'zip_code': 7})\n",
            "Row(('CENTERVILLE', 'APPANOOSE', '2021-04-23', {'attributions': [{'featureAttributions': {'date': -151.64326985677084, 'sale_dollars': 605.54248046875, 'city': 23.302327473958332, 'zip_code': 25.226847330729168, 'county': 13.321370442708334}, 'outputDisplayName': None}]}, {'value': 3707.380615234375}, None, 'WAL-MART 1621 / CENTERVILLE', '52544.0'), {'city': 0, 'county': 1, 'date': 2, 'explanation': 3, 'predicted_sale_dollars': 4, 'sale_dollars': 5, 'store_name': 6, 'zip_code': 7})\n",
            "Row(('CENTERVILLE', 'APPANOOSE', '2021-04-30', {'attributions': [{'featureAttributions': {'date': -78.90730794270833, 'sale_dollars': 629.5635986328125, 'city': 21.025187174479168, 'zip_code': 7.081380208333333, 'county': -13.912272135416666}, 'outputDisplayName': None}]}, {'value': 3774.265625}, None, 'WAL-MART 1621 / CENTERVILLE', '52544.0'), {'city': 0, 'county': 1, 'date': 2, 'explanation': 3, 'predicted_sale_dollars': 4, 'sale_dollars': 5, 'store_name': 6, 'zip_code': 7})\n",
            "Row(('CENTERVILLE', 'APPANOOSE', '2021-04-02', {'attributions': [{'featureAttributions': {'date': -37.734578450520836, 'sale_dollars': 522.6462809244791, 'city': 108.710205078125, 'zip_code': 40.788736979166664, 'county': 37.875203450520836}, 'outputDisplayName': None}]}, {'value': 3864.610107421875}, None, 'FAREWAY STORES #827 / CENTERVILLE', '52544.0'), {'city': 0, 'county': 1, 'date': 2, 'explanation': 3, 'predicted_sale_dollars': 4, 'sale_dollars': 5, 'store_name': 6, 'zip_code': 7})\n",
            "Row(('CENTERVILLE', 'APPANOOSE', '2021-04-09', {'attributions': [{'featureAttributions': {'date': -11.314737955729166, 'sale_dollars': 548.4467366536459, 'city': 52.819173177083336, 'zip_code': 27.204142252604168, 'county': 18.758015950520832}, 'outputDisplayName': None}]}, {'value': 3815.872314453125}, None, 'FAREWAY STORES #827 / CENTERVILLE', '52544.0'), {'city': 0, 'county': 1, 'date': 2, 'explanation': 3, 'predicted_sale_dollars': 4, 'sale_dollars': 5, 'store_name': 6, 'zip_code': 7})\n",
            "Row(('CENTERVILLE', 'APPANOOSE', '2021-04-16', {'attributions': [{'featureAttributions': {'date': -67.88553873697917, 'sale_dollars': 549.4161783854166, 'city': 66.99589029947917, 'zip_code': 35.23388671875, 'county': 23.571370442708332}, 'outputDisplayName': None}]}, {'value': 3820.016357421875}, None, 'FAREWAY STORES #827 / CENTERVILLE', '52544.0'), {'city': 0, 'county': 1, 'date': 2, 'explanation': 3, 'predicted_sale_dollars': 4, 'sale_dollars': 5, 'store_name': 6, 'zip_code': 7})\n",
            "Row(('CENTERVILLE', 'APPANOOSE', '2021-04-23', {'attributions': [{'featureAttributions': {'date': -112.35994466145833, 'sale_dollars': 523.8070475260416, 'city': -5.795247395833333, 'zip_code': 13.435465494791666, 'county': 6.720458984375}, 'outputDisplayName': None}]}, {'value': 3643.788330078125}, None, 'FAREWAY STORES #827 / CENTERVILLE', '52544.0'), {'city': 0, 'county': 1, 'date': 2, 'explanation': 3, 'predicted_sale_dollars': 4, 'sale_dollars': 5, 'store_name': 6, 'zip_code': 7})\n",
            "Row(('CENTERVILLE', 'APPANOOSE', '2021-04-02', {'attributions': [{'featureAttributions': {'date': -71.05546061197917, 'sale_dollars': -1485.4207967122395, 'city': 91.58998616536458, 'zip_code': 17.3985595703125, 'county': 35.760538736979164}, 'outputDisplayName': None}]}, {'value': 1749.119140625}, None, 'HY-VEE FAST & FRESH EXPRESS / CENTERVILLE', '52544.0'), {'city': 0, 'county': 1, 'date': 2, 'explanation': 3, 'predicted_sale_dollars': 4, 'sale_dollars': 5, 'store_name': 6, 'zip_code': 7})\n",
            "Row(('CENTERVILLE', 'APPANOOSE', '2021-04-09', {'attributions': [{'featureAttributions': {'date': -51.475789388020836, 'sale_dollars': -1476.2144368489583, 'city': 38.41412353515625, 'zip_code': 0.5281778971354166, 'county': 26.5673828125}, 'outputDisplayName': None}]}, {'value': 1680.196533203125}, None, 'HY-VEE FAST & FRESH EXPRESS / CENTERVILLE', '52544.0'), {'city': 0, 'county': 1, 'date': 2, 'explanation': 3, 'predicted_sale_dollars': 4, 'sale_dollars': 5, 'store_name': 6, 'zip_code': 7})\n",
            "Row(('CENTERVILLE', 'APPANOOSE', '2021-04-16', {'attributions': [{'featureAttributions': {'date': -46.219197591145836, 'sale_dollars': -1502.3828938802083, 'city': 41.493672688802086, 'zip_code': 8.910603841145834, 'county': 27.75897216796875}, 'outputDisplayName': None}]}, {'value': 1687.912109375}, None, 'HY-VEE FAST & FRESH EXPRESS / CENTERVILLE', '52544.0'), {'city': 0, 'county': 1, 'date': 2, 'explanation': 3, 'predicted_sale_dollars': 4, 'sale_dollars': 5, 'store_name': 6, 'zip_code': 7})\n",
            "Row(('CENTERVILLE', 'APPANOOSE', '2021-04-30', {'attributions': [{'featureAttributions': {'date': -85.48634847005208, 'sale_dollars': -1505.0968831380208, 'city': 31.112833658854168, 'zip_code': -4.658121744791667, 'county': 16.082255045572918}, 'outputDisplayName': None}]}, {'value': 1625.085693359375}, None, 'HY-VEE FAST & FRESH EXPRESS / CENTERVILLE', '52544.0'), {'city': 0, 'county': 1, 'date': 2, 'explanation': 3, 'predicted_sale_dollars': 4, 'sale_dollars': 5, 'store_name': 6, 'zip_code': 7})\n",
            "Row(('CENTERVILLE', 'APPANOOSE', '2021-04-23', {'attributions': [{'featureAttributions': {'date': 29.764689127604168, 'sale_dollars': 1401.1732177734375, 'city': 70.83349609375, 'zip_code': 0.049072265625, 'county': 26.483561197916668}, 'outputDisplayName': None}]}, {'value': 4566.13427734375}, None, \"CASEY'S GENERAL STORE #3772\", '52544.0'), {'city': 0, 'county': 1, 'date': 2, 'explanation': 3, 'predicted_sale_dollars': 4, 'sale_dollars': 5, 'store_name': 6, 'zip_code': 7})\n",
            "Row(('CENTERVILLE', 'APPANOOSE', '2021-04-02', {'attributions': [{'featureAttributions': {'date': -64.24409993489583, 'sale_dollars': -766.6867268880209, 'city': 46.092488606770836, 'zip_code': 8.625813802083334, 'county': 23.623250325520832}, 'outputDisplayName': None}]}, {'value': 2285.2197265625}, None, 'YESWAY #1031', '52544.0'), {'city': 0, 'county': 1, 'date': 2, 'explanation': 3, 'predicted_sale_dollars': 4, 'sale_dollars': 5, 'store_name': 6, 'zip_code': 7})\n",
            "Row(('CENTERVILLE', 'APPANOOSE', '2021-04-02', {'attributions': [{'featureAttributions': {'date': -40.205485026041664, 'sale_dollars': 4454.308024088542, 'city': 170.19120279947916, 'zip_code': 88.67989095052083, 'county': 37.686279296875}, 'outputDisplayName': None}]}, {'value': 7851.62841796875}, None, 'HY-VEE FOOD STORE / CENTERVILLE', '52544.0'), {'city': 0, 'county': 1, 'date': 2, 'explanation': 3, 'predicted_sale_dollars': 4, 'sale_dollars': 5, 'store_name': 6, 'zip_code': 7})\n",
            "Row(('CENTERVILLE', 'APPANOOSE', '2021-04-09', {'attributions': [{'featureAttributions': {'date': -38.578938802083336, 'sale_dollars': 4526.179931640625, 'city': 103.4176025390625, 'zip_code': 69.46903483072917, 'county': 18.084879557291668}, 'outputDisplayName': None}]}, {'value': 7810.3720703125}, None, 'HY-VEE FOOD STORE / CENTERVILLE', '52544.0'), {'city': 0, 'county': 1, 'date': 2, 'explanation': 3, 'predicted_sale_dollars': 4, 'sale_dollars': 5, 'store_name': 6, 'zip_code': 7})\n",
            "Row(('CENTERVILLE', 'APPANOOSE', '2021-04-16', {'attributions': [{'featureAttributions': {'date': -141.610107421875, 'sale_dollars': 4555.294026692708, 'city': 175.0892333984375, 'zip_code': 86.57181803385417, 'county': 34.2939453125}, 'outputDisplayName': None}]}, {'value': 7871.7705078125}, None, 'HY-VEE FOOD STORE / CENTERVILLE', '52544.0'), {'city': 0, 'county': 1, 'date': 2, 'explanation': 3, 'predicted_sale_dollars': 4, 'sale_dollars': 5, 'store_name': 6, 'zip_code': 7})\n",
            "Row(('CENTERVILLE', 'APPANOOSE', '2021-04-23', {'attributions': [{'featureAttributions': {'date': -251.96956380208334, 'sale_dollars': 4441.3494059244795, 'city': 51.0107421875, 'zip_code': 55.480143229166664, 'county': 12.2144775390625}, 'outputDisplayName': None}]}, {'value': 7499.60791015625}, None, 'HY-VEE FOOD STORE / CENTERVILLE', '52544.0'), {'city': 0, 'county': 1, 'date': 2, 'explanation': 3, 'predicted_sale_dollars': 4, 'sale_dollars': 5, 'store_name': 6, 'zip_code': 7})\n",
            "Row(('CENTERVILLE', 'APPANOOSE', '2021-04-30', {'attributions': [{'featureAttributions': {'date': -113.97749837239583, 'sale_dollars': 4565.532796223958, 'city': 76.5748291015625, 'zip_code': 24.5306396484375, 'county': -28.4459228515625}, 'outputDisplayName': None}]}, {'value': 7733.57568359375}, None, 'HY-VEE FOOD STORE / CENTERVILLE', '52544.0'), {'city': 0, 'county': 1, 'date': 2, 'explanation': 3, 'predicted_sale_dollars': 4, 'sale_dollars': 5, 'store_name': 6, 'zip_code': 7})\n",
            "Row(('MORAVIA', 'APPANOOSE', '2021-04-09', {'attributions': [{'featureAttributions': {'date': -162.24007161458334, 'sale_dollars': 0.0, 'city': 113.15592447916667, 'zip_code': -90.80916341145833, 'county': 60.794189453125}, 'outputDisplayName': None}]}, {'value': 4367.48193359375}, None, 'HONEY CREEK RESORT STATE PARK/ GIFT', '52571.0'), {'city': 0, 'county': 1, 'date': 2, 'explanation': 3, 'predicted_sale_dollars': 4, 'sale_dollars': 5, 'store_name': 6, 'zip_code': 7})\n",
            "Row(('MORAVIA', 'APPANOOSE', '2021-04-30', {'attributions': [{'featureAttributions': {'date': 22.851236979166668, 'sale_dollars': 0.0, 'city': 60.43798828125, 'zip_code': -80.34611002604167, 'county': 74.358642578125}, 'outputDisplayName': None}]}, {'value': 4455.80419921875}, None, 'HONEY CREEK RESORT STATE PARK/ GIFT', '52571.0'), {'city': 0, 'county': 1, 'date': 2, 'explanation': 3, 'predicted_sale_dollars': 4, 'sale_dollars': 5, 'store_name': 6, 'zip_code': 7})\n",
            "Row(('MORAVIA', 'APPANOOSE', '2021-04-09', {'attributions': [{'featureAttributions': {'date': -108.8865966796875, 'sale_dollars': -994.601318359375, 'city': 112.282958984375, 'zip_code': -69.56355794270833, 'county': 39.654052734375}, 'outputDisplayName': None}]}, {'value': 2147.904052734375}, None, \"ELLIOTT'S GENERAL STORE,\", '52571.0'), {'city': 0, 'county': 1, 'date': 2, 'explanation': 3, 'predicted_sale_dollars': 4, 'sale_dollars': 5, 'store_name': 6, 'zip_code': 7})\n",
            "Row(('MORAVIA', 'APPANOOSE', '2021-04-16', {'attributions': [{'featureAttributions': {'date': -44.378092447916664, 'sale_dollars': -1000.5489501953125, 'city': 86.40376790364583, 'zip_code': -73.9886474609375, 'county': 32.939656575520836}, 'outputDisplayName': None}]}, {'value': 2153.56787109375}, None, \"ELLIOTT'S GENERAL STORE,\", '52571.0'), {'city': 0, 'county': 1, 'date': 2, 'explanation': 3, 'predicted_sale_dollars': 4, 'sale_dollars': 5, 'store_name': 6, 'zip_code': 7})\n",
            "Row(('MORAVIA', 'APPANOOSE', '2021-04-23', {'attributions': [{'featureAttributions': {'date': -17.694254557291668, 'sale_dollars': -1002.3173421223959, 'city': 58.960123697916664, 'zip_code': -59.281656901041664, 'county': 23.8897705078125}, 'outputDisplayName': None}]}, {'value': 2171.27197265625}, None, \"ELLIOTT'S GENERAL STORE,\", '52571.0'), {'city': 0, 'county': 1, 'date': 2, 'explanation': 3, 'predicted_sale_dollars': 4, 'sale_dollars': 5, 'store_name': 6, 'zip_code': 7})\n",
            "Row(('MORAVIA', 'APPANOOSE', '2021-04-30', {'attributions': [{'featureAttributions': {'date': -63.333984375, 'sale_dollars': -1028.0222981770833, 'city': 47.934733072916664, 'zip_code': -49.026285807291664, 'county': 20.138020833333332}, 'outputDisplayName': None}]}, {'value': 2115.079345703125}, None, \"ELLIOTT'S GENERAL STORE,\", '52571.0'), {'city': 0, 'county': 1, 'date': 2, 'explanation': 3, 'predicted_sale_dollars': 4, 'sale_dollars': 5, 'store_name': 6, 'zip_code': 7})\n",
            "Row(('AUDUBON', 'AUDUBON', '2021-04-06', {'attributions': [{'featureAttributions': {'date': -117.205322265625, 'sale_dollars': 151.26220703125, 'city': 107.27457682291667, 'zip_code': -61.388875325520836, 'county': 19.832316080729168}, 'outputDisplayName': None}]}, {'value': 3221.74609375}, None, 'AUDUBON FOOD LAND', '50025.0'), {'city': 0, 'county': 1, 'date': 2, 'explanation': 3, 'predicted_sale_dollars': 4, 'sale_dollars': 5, 'store_name': 6, 'zip_code': 7})\n",
            "Row(('AUDUBON', 'AUDUBON', '2021-04-13', {'attributions': [{'featureAttributions': {'date': -1.3104654947916667, 'sale_dollars': 154.91133626302084, 'city': 66.15486653645833, 'zip_code': -47.653483072916664, 'county': 8.822794596354166}, 'outputDisplayName': None}]}, {'value': 3294.15869140625}, None, 'AUDUBON FOOD LAND', '50025.0'), {'city': 0, 'county': 1, 'date': 2, 'explanation': 3, 'predicted_sale_dollars': 4, 'sale_dollars': 5, 'store_name': 6, 'zip_code': 7})\n",
            "Row(('AUDUBON', 'AUDUBON', '2021-04-20', {'attributions': [{'featureAttributions': {'date': -81.55037434895833, 'sale_dollars': 152.95174153645834, 'city': 62.552449544270836, 'zip_code': -29.76708984375, 'county': -0.4621175130208333}, 'outputDisplayName': None}]}, {'value': 3249.076416015625}, None, 'AUDUBON FOOD LAND', '50025.0'), {'city': 0, 'county': 1, 'date': 2, 'explanation': 3, 'predicted_sale_dollars': 4, 'sale_dollars': 5, 'store_name': 6, 'zip_code': 7})\n",
            "Row(('AUDUBON', 'AUDUBON', '2021-04-27', {'attributions': [{'featureAttributions': {'date': -58.898478190104164, 'sale_dollars': 156.06624348958334, 'city': 58.8131103515625, 'zip_code': -47.419840494791664, 'county': -0.5810546875}, 'outputDisplayName': None}]}, {'value': 3257.336669921875}, None, 'AUDUBON FOOD LAND', '50025.0'), {'city': 0, 'county': 1, 'date': 2, 'explanation': 3, 'predicted_sale_dollars': 4, 'sale_dollars': 5, 'store_name': 6, 'zip_code': 7})\n",
            "Row(('AUDUBON', 'AUDUBON', '2021-04-06', {'attributions': [{'featureAttributions': {'date': -93.599853515625, 'sale_dollars': -527.0494791666666, 'city': 106.4737548828125, 'zip_code': -73.162353515625, 'county': 10.245524088541666}, 'outputDisplayName': None}]}, {'value': 2600.730224609375}, None, \"CASEY'S GENERAL STORE #27  /  AUDUBO\", '50025.0'), {'city': 0, 'county': 1, 'date': 2, 'explanation': 3, 'predicted_sale_dollars': 4, 'sale_dollars': 5, 'store_name': 6, 'zip_code': 7})\n",
            "Row(('AUDUBON', 'AUDUBON', '2021-04-27', {'attributions': [{'featureAttributions': {'date': 0.2620849609375, 'sale_dollars': -538.7018229166666, 'city': 84.47367350260417, 'zip_code': -72.23050944010417, 'county': 14.149332682291666}, 'outputDisplayName': None}]}, {'value': 2636.41015625}, None, \"CASEY'S GENERAL STORE #27  /  AUDUBO\", '50025.0'), {'city': 0, 'county': 1, 'date': 2, 'explanation': 3, 'predicted_sale_dollars': 4, 'sale_dollars': 5, 'store_name': 6, 'zip_code': 7})\n",
            "Row(('AUDUBON', 'AUDUBON', '2021-04-06', {'attributions': [{'featureAttributions': {'date': -93.17081705729167, 'sale_dollars': -849.2765706380209, 'city': 94.64042154947917, 'zip_code': -60.043863932291664, 'county': 19.825439453125}, 'outputDisplayName': None}]}, {'value': 2301.757080078125}, None, \"WASPY'S TRUCK STOP\", '50025.0'), {'city': 0, 'county': 1, 'date': 2, 'explanation': 3, 'predicted_sale_dollars': 4, 'sale_dollars': 5, 'store_name': 6, 'zip_code': 7})\n",
            "Row(('AUDUBON', 'AUDUBON', '2021-04-13', {'attributions': [{'featureAttributions': {'date': -25.344889322916668, 'sale_dollars': -855.2852783203125, 'city': 83.763916015625, 'zip_code': -60.288248697916664, 'county': 8.986287434895834}, 'outputDisplayName': None}]}, {'value': 2328.830810546875}, None, \"WASPY'S TRUCK STOP\", '50025.0'), {'city': 0, 'county': 1, 'date': 2, 'explanation': 3, 'predicted_sale_dollars': 4, 'sale_dollars': 5, 'store_name': 6, 'zip_code': 7})\n",
            "Row(('AUDUBON', 'AUDUBON', '2021-04-19', {'attributions': [{'featureAttributions': {'date': 15.1639404296875, 'sale_dollars': -857.217041015625, 'city': -41.0584716796875, 'zip_code': -14.558430989583334, 'county': -11.784098307291666}, 'outputDisplayName': None}]}, {'value': 2290.03564453125}, None, \"WASPY'S TRUCK STOP\", '50025.0'), {'city': 0, 'county': 1, 'date': 2, 'explanation': 3, 'predicted_sale_dollars': 4, 'sale_dollars': 5, 'store_name': 6, 'zip_code': 7})\n",
            "Row(('AUDUBON', 'AUDUBON', '2021-04-27', {'attributions': [{'featureAttributions': {'date': -121.86417643229167, 'sale_dollars': -856.0826416015625, 'city': 104.03633626302083, 'zip_code': -63.242513020833336, 'county': 8.502156575520834}, 'outputDisplayName': None}]}, {'value': 2285.35498046875}, None, \"WASPY'S TRUCK STOP\", '50025.0'), {'city': 0, 'county': 1, 'date': 2, 'explanation': 3, 'predicted_sale_dollars': 4, 'sale_dollars': 5, 'store_name': 6, 'zip_code': 7})\n",
            "Row(('EXIRA', 'AUDUBON', '2021-04-06', {'attributions': [{'featureAttributions': {'date': -146.70365397135416, 'sale_dollars': -893.3417154947916, 'city': 76.1138916015625, 'zip_code': -14.149088541666666, 'county': 4.567626953125}, 'outputDisplayName': None}]}, {'value': 2212.039306640625}, None, \"CASEY'S GENERAL STORE #2563 / EXIRA\", '50076.0'), {'city': 0, 'county': 1, 'date': 2, 'explanation': 3, 'predicted_sale_dollars': 4, 'sale_dollars': 5, 'store_name': 6, 'zip_code': 7})\n",
            "Row(('EXIRA', 'AUDUBON', '2021-04-20', {'attributions': [{'featureAttributions': {'date': -83.756103515625, 'sale_dollars': -918.2623697916666, 'city': 81.6513671875, 'zip_code': -59.530721028645836, 'county': 14.2525634765625}, 'outputDisplayName': None}]}, {'value': 2209.652099609375}, None, \"CASEY'S GENERAL STORE #2563 / EXIRA\", '50076.0'), {'city': 0, 'county': 1, 'date': 2, 'explanation': 3, 'predicted_sale_dollars': 4, 'sale_dollars': 5, 'store_name': 6, 'zip_code': 7})\n",
            "Row(('ATKINS', 'BENTON', '2021-04-02', {'attributions': [{'featureAttributions': {'date': -76.0535888671875, 'sale_dollars': -795.0321044921875, 'city': 98.55546061197917, 'zip_code': -54.658487955729164, 'county': 42.513427734375}, 'outputDisplayName': None}]}, {'value': 2356.368408203125}, None, 'THE DEPOT ATKINS', '52206.0'), {'city': 0, 'county': 1, 'date': 2, 'explanation': 3, 'predicted_sale_dollars': 4, 'sale_dollars': 5, 'store_name': 6, 'zip_code': 7})\n",
            "Row(('ATKINS', 'BENTON', '2021-04-09', {'attributions': [{'featureAttributions': {'date': -55.874552408854164, 'sale_dollars': -791.7715250651041, 'city': 79.79374186197917, 'zip_code': -71.19588216145833, 'county': 35.5281982421875}, 'outputDisplayName': None}]}, {'value': 2328.384765625}, None, 'THE DEPOT ATKINS', '52206.0'), {'city': 0, 'county': 1, 'date': 2, 'explanation': 3, 'predicted_sale_dollars': 4, 'sale_dollars': 5, 'store_name': 6, 'zip_code': 7})\n"
          ]
        }
      ],
      "source": [
        "for row in batch_prediction_job.iter_outputs():\n",
        "    print(row)"
      ]
    },
    {
      "cell_type": "markdown",
      "metadata": {
        "id": "78080aa9088e"
      },
      "source": [
        "### Visualize the forecasts\n",
        "\n",
        "Lastly, follow the given link to visualize the generated forecasts in [Data Studio](https://support.google.com/datastudio/answer/6283323?hl=en).\n",
        "The code block included in this section dynamically generates a Data Studio link that specifies the template, the location of the forecasts, and the query to generate the chart. The data is populated from the forecasts generated using BigQuery options where the destination dataset is `batch_predict_bq_output_dataset_path`.\n",
        "\n",
        "You can inspect the used template at https://datastudio.google.com/c/u/0/reporting/067f70d2-8cd6-4a4c-a099-292acd1053e8. This was created by Google specifically to view forecasting predictions.\n",
        "\n",
        "**Note:** The Data Studio dashboard can only show the charts properly when the `batch_predict` job is run successfully using the BigQuery options."
      ]
    },
    {
      "cell_type": "code",
      "execution_count": 17,
      "metadata": {
        "id": "f82f00be2160",
        "colab": {
          "base_uri": "https://localhost:8080/"
        },
        "outputId": "d539af33-29ed-455f-8391-999af3c48e4a"
      },
      "outputs": [
        {
          "output_type": "stream",
          "name": "stdout",
          "text": [
            "https://datastudio.google.com/c/u/0/reporting?params=%7B%22templateId%22%3A%22067f70d2-8cd6-4a4c-a099-292acd1053e8%22%2C%22ds0.connector%22%3A%22BIG_QUERY%22%2C%22ds0.projectId%22%3A%22asn3-454801%22%2C%22ds0.billingProjectId%22%3A%22asn3-454801%22%2C%22ds0.type%22%3A%22CUSTOM_QUERY%22%2C%22ds0.sql%22%3A%22SELECT+%5Cn+CAST%28input.date+as+DATETIME%29+timestamp_col%2C%5Cn+CAST%28input.store_name+as+STRING%29+time_series_identifier_col%2C%5Cn+CAST%28input.sale_dollars+as+NUMERIC%29+historical_values%2C%5Cn+CAST%28predicted_sale_dollars.value+as+NUMERIC%29+predicted_values%2C%5Cn+%2A+%5CnFROM+%60bigquery-public-data.iowa_liquor_sales_forecasting.2021_sales_predict%60+input%5CnLEFT+JOIN+%60asn3-454801.iowa_liquor_sales_predictions.predictions_2025_03_24T20_42_29_818Z_315%60+output%5CnON%5CnCAST%28input.date+as+DATETIME%29+%3D+CAST%28output.date+as+DATETIME%29%5CnAND+CAST%28input.store_name+as+STRING%29+%3D+CAST%28output.store_name+as+STRING%29%22%7D\n"
          ]
        }
      ],
      "source": [
        "tables = client.list_tables(batch_predict_bq_output_dataset_path)\n",
        "\n",
        "prediction_table_id = \"\"\n",
        "for table in tables:\n",
        "    if (\n",
        "        table.table_id.startswith(\"predictions_\")\n",
        "        and table.table_id > prediction_table_id\n",
        "    ):\n",
        "        prediction_table_id = table.table_id\n",
        "batch_predict_bq_output_uri = \"{}.{}\".format(\n",
        "    batch_predict_bq_output_dataset_path, prediction_table_id\n",
        ")\n",
        "\n",
        "\n",
        "def _sanitize_bq_uri(bq_uri):\n",
        "    if bq_uri.startswith(\"bq://\"):\n",
        "        bq_uri = bq_uri[5:]\n",
        "    return bq_uri.replace(\":\", \".\")\n",
        "\n",
        "\n",
        "def get_data_studio_link(\n",
        "    batch_prediction_bq_input_uri,\n",
        "    batch_prediction_bq_output_uri,\n",
        "    time_column,\n",
        "    time_series_identifier_column,\n",
        "    target_column,\n",
        "):\n",
        "    batch_prediction_bq_input_uri = _sanitize_bq_uri(batch_prediction_bq_input_uri)\n",
        "    batch_prediction_bq_output_uri = _sanitize_bq_uri(batch_prediction_bq_output_uri)\n",
        "    base_url = \"https://datastudio.google.com/c/u/0/reporting\"\n",
        "    query = (\n",
        "        \"SELECT \\\\n\"\n",
        "        \" CAST(input.{} as DATETIME) timestamp_col,\\\\n\"\n",
        "        \" CAST(input.{} as STRING) time_series_identifier_col,\\\\n\"\n",
        "        \" CAST(input.{} as NUMERIC) historical_values,\\\\n\"\n",
        "        \" CAST(predicted_{}.value as NUMERIC) predicted_values,\\\\n\"\n",
        "        \" * \\\\n\"\n",
        "        \"FROM `{}` input\\\\n\"\n",
        "        \"LEFT JOIN `{}` output\\\\n\"\n",
        "        \"ON\\\\n\"\n",
        "        \"CAST(input.{} as DATETIME) = CAST(output.{} as DATETIME)\\\\n\"\n",
        "        \"AND CAST(input.{} as STRING) = CAST(output.{} as STRING)\"\n",
        "    )\n",
        "    query = query.format(\n",
        "        time_column,\n",
        "        time_series_identifier_column,\n",
        "        target_column,\n",
        "        target_column,\n",
        "        batch_prediction_bq_input_uri,\n",
        "        batch_prediction_bq_output_uri,\n",
        "        time_column,\n",
        "        time_column,\n",
        "        time_series_identifier_column,\n",
        "        time_series_identifier_column,\n",
        "    )\n",
        "    params = {\n",
        "        \"templateId\": \"067f70d2-8cd6-4a4c-a099-292acd1053e8\",\n",
        "        \"ds0.connector\": \"BIG_QUERY\",\n",
        "        \"ds0.projectId\": PROJECT_ID,\n",
        "        \"ds0.billingProjectId\": PROJECT_ID,\n",
        "        \"ds0.type\": \"CUSTOM_QUERY\",\n",
        "        \"ds0.sql\": query,\n",
        "    }\n",
        "    params_str_parts = []\n",
        "    for k, v in params.items():\n",
        "        params_str_parts.append('\"{}\":\"{}\"'.format(k, v))\n",
        "    params_str = \"\".join([\"{\", \",\".join(params_str_parts), \"}\"])\n",
        "    return \"{}?{}\".format(base_url, urllib.parse.urlencode({\"params\": params_str}))\n",
        "\n",
        "\n",
        "print(\n",
        "    get_data_studio_link(\n",
        "        PREDICTION_DATASET_BQ_PATH,\n",
        "        batch_predict_bq_output_uri,\n",
        "        time_column,\n",
        "        time_series_identifier_column,\n",
        "        target_column,\n",
        "    )\n",
        ")"
      ]
    },
    {
      "cell_type": "markdown",
      "metadata": {
        "id": "cleanup:mbsdk"
      },
      "source": [
        "# Cleaning up\n",
        "\n",
        "To clean up all Google Cloud resources used in this project, you can [delete the Google Cloud\n",
        "project](https://cloud.google.com/resource-manager/docs/creating-managing-projects#shutting_down_projects) you used for the tutorial.\n",
        "\n",
        "Otherwise, you can delete the individual resources you created in this tutorial:\n",
        "\n",
        "- Dataset\n",
        "- AutoML Training Job\n",
        "- Model\n",
        "- Batch Prediction Job\n",
        "- Cloud Storage Bucket"
      ]
    },
    {
      "cell_type": "code",
      "execution_count": null,
      "metadata": {
        "id": "_w6rL9id75Ch"
      },
      "outputs": [],
      "source": [
        "# Delete dataset\n",
        "dataset.delete()\n",
        "\n",
        "# Training job\n",
        "training_job.delete()\n",
        "\n",
        "# Delete model\n",
        "model.delete()\n",
        "\n",
        "# Delete batch prediction job\n",
        "batch_prediction_job.delete()\n",
        "\n",
        "# Delete the dataset\n",
        "try:\n",
        "    client.delete_dataset(bq_dataset_id, delete_contents=True, not_found_ok=True)\n",
        "except Exception as e:\n",
        "    print(e)\n",
        "\n",
        "# Set this to true only if you'd like to delete your bucket\n",
        "delete_bucket = False  # set True for deletion\n",
        "\n",
        "if delete_bucket:\n",
        "    ! gsutil rm -r $BUCKET_URI"
      ]
    }
  ],
  "metadata": {
    "colab": {
      "name": "sdk_automl_tabular_forecasting_batch.ipynb",
      "provenance": []
    },
    "kernelspec": {
      "display_name": "Python 3",
      "name": "python3"
    }
  },
  "nbformat": 4,
  "nbformat_minor": 0
}